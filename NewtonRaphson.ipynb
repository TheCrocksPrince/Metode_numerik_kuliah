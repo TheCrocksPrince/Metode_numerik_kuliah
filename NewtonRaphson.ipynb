{
 "cells": [
  {
   "cell_type": "markdown",
   "id": "076bdfc7-7a10-461a-bea9-412f864656b5",
   "metadata": {},
   "source": [
    "# Metode Newton Raphson\n",
    "- Tentukan f'(x)\n",
    "- Buat tabel penolong\n",
    "- iterasi berhenti jika f(Xn)=0 dan deltax <= 0"
   ]
  },
  {
   "cell_type": "code",
   "execution_count": 60,
   "id": "c78700c8-a5f4-4387-a7bb-7f5a1435ccef",
   "metadata": {},
   "outputs": [],
   "source": [
    "import numpy as np\n"
   ]
  },
  {
   "cell_type": "code",
   "execution_count": 61,
   "id": "26b72403-075a-482e-ad51-fa30ad0876c9",
   "metadata": {},
   "outputs": [
    {
     "name": "stdout",
     "output_type": "stream",
     "text": [
      "0   | 3.000000    | 14.000000    | 22.000000\n",
      "1   | 2.363636    | 3.386927    | 11.760331\n",
      "2   | 2.075640    | 0.564245    | 7.924850\n",
      "3   | 2.004441    | 0.031206    | 7.053351\n",
      "4   | 2.000017    | 0.000118    | 7.000202\n",
      "Result :  2.000016802103633\n",
      "In 4 iteration\n"
     ]
    }
   ],
   "source": [
    "def newtons(f,df,x0):\n",
    "  e = 0.0038\n",
    "  N = 100\n",
    "  for i in range (0,N):\n",
    "    print(\"%d   | %f    | %f    | %f\" %(i,x0,f(x0),df(x0)))\n",
    "    if abs(f(x0)) < e:\n",
    "      return x0,i\n",
    "    if df(x0) == 0:\n",
    "      print(\"Zero derivative\")\n",
    "      return None\n",
    "    x0 = x0 - f(x0)/df(x0)\n",
    "  print(\"Maximum iteration\") \n",
    "  return x0, i\n",
    "\n",
    "f  = lambda x: x**3-5*x+2\n",
    "df = lambda x: 3*(x**2)-5\n",
    "x0 = 3\n",
    "\n",
    "x_root, iteration = newtons(f,df,x0)\n",
    "print('Result : ', x_root)\n",
    "print('In %d iteration' %iteration)"
   ]
  },
  {
   "cell_type": "code",
   "execution_count": 62,
   "id": "17d5f112-756a-4ac0-aee6-45e0dbeef1be",
   "metadata": {},
   "outputs": [
    {
     "name": "stdout",
     "output_type": "stream",
     "text": [
      "--------------------------------------------------------------------------------------------------------------------\n",
      "n                    xn                   f(xn)                df(xn)               Xn+1                 deltaX              \n",
      "--------------------------------------------------------------------------------------------------------------------\n",
      "0                    3                    14                   22                   2.3636364            0.63636364          \n",
      "\n",
      "1                    2.3636364            3.3869271            11.760331            2.0756405            0.28799591          \n",
      "\n",
      "2                    2.0756405            0.56424481           7.9248499            2.004441             0.071199432         \n",
      "\n",
      "3                    2.004441             0.031205565          7.0533514            2.0000168            0.0044242181        \n",
      "\n",
      "4                    2.0000168            0.00011761642        7.0002016            2                    1.6801862e-05       \n",
      "\n",
      "\n",
      "Nilai x didapatkan pada saat iterasi ke 5, dengan nilai x = 2.0\n"
     ]
    }
   ],
   "source": [
    "def f(x):\n",
    "    f = x**3-5*x+2\n",
    "    return f\n",
    "\n",
    "def df(x):\n",
    "    df = 3*x**2-5\n",
    "    return df\n",
    "\n",
    "def newtons(x0, e, n):\n",
    "    x=[]\n",
    "    x.append(x0)\n",
    "    i=0\n",
    "    print(\"--------------------------------------------------------------------------------------------------------------------\")\n",
    "    print(\"%-20s %-20s %-20s %-20s %-20s %-20s\" % (\"n\", \"xn\", \"f(xn)\", \"df(xn)\", \"Xn+1\", \"deltaX\"))\n",
    "    print(\"--------------------------------------------------------------------------------------------------------------------\")\n",
    "   \n",
    "    # Dilakukan iterasi sampai dengan n yang diinginkan\n",
    "    while(i <= n):\n",
    "        x.append(x[i] - f(x[i]) / df(x[i]))\n",
    "        deltaX = np.abs(x[i+1]-x[i])\n",
    "        i += 1\n",
    "\n",
    "        # Jika f(x) = 0 atau akar telah ditemukan program akan berhenti.\n",
    "        # Jika |f(x)| < angka toleransi program akan berhenti. Artinya nilai toleransi/error telah dicapai.\n",
    "        if (f(x[i]) == 0):\n",
    "            if (np.abs(x[i]-x[i-1]) < e):\n",
    "                \n",
    "                print(f\"\\nNilai x didapatkan pada saat iterasi ke {i-1}, dengan nilai x = {x[i]}\")\n",
    "                break\n",
    "        # Jika tidak maka iterasi akan terus berjalan sampai keadaan di atas.\n",
    "        else:\n",
    "             print(\"%-20.8g %-20.8g %-20.8g %-20.8g %-20.8g %-20.8g\\n\" % (i-1, x[i-1], f(x[i-1]), df(x[i-1]), x[i], deltaX))\n",
    "    return\n",
    "\n",
    "newtons(3, 0.0038, 20)"
   ]
  },
  {
   "cell_type": "markdown",
   "id": "5a312149-1fc2-436d-9e8d-fa37742faf22",
   "metadata": {},
   "source": [
    "# Metode Regula Falsi"
   ]
  },
  {
   "cell_type": "code",
   "execution_count": 64,
   "id": "798e963f-79c9-4f02-8b77-e0ffcbb61521",
   "metadata": {},
   "outputs": [
    {
     "name": "stdout",
     "output_type": "stream",
     "text": [
      "-------------------------------------------------------------------------------------------------------------------------------------------------------------------\n",
      "n                    a                    b                    c                    f(c)                 f(a)                 f(b)                 lebar selang        \n",
      "-------------------------------------------------------------------------------------------------------------------------------------------------------------------\n",
      "1                    1                    4                    1.0857143            -6.1468148           -6                   204                  2.9142857           \n",
      "\n",
      "2                    1.0857143            4                    1.1709574            -6.2333954           -6.1468148           204                  2.8290426           \n",
      "\n",
      "3                    1.1709574            4                    1.2548382            -6.244432            -6.2333954           204                  2.7451618           \n",
      "\n",
      "4                    1.2548382            4                    1.3363718            -6.1682672           -6.244432            204                  2.6636282           \n",
      "\n",
      "5                    1.3363718            4                    1.4145471            -5.9990557           -6.1682672           204                  2.5854529           \n",
      "\n",
      "6                    1.4145471            4                    1.4884059            -5.7382715           -5.9990557           204                  2.5115941           \n",
      "\n",
      "7                    1.4884059            4                    1.5571211            -5.3950667           -5.7382715           204                  2.4428789           \n",
      "\n",
      "\n",
      "Nilai x didapatkan pada saat iterasi ke 7, dengan nilai x = 1.5571210759235496\n"
     ]
    }
   ],
   "source": [
    "def f(x):\n",
    "    f = x**4 - 3*x**2 - 4 \n",
    "    return f\n",
    "\n",
    "\n",
    "def regulaFalsi(a, b , toleransi, n):\n",
    "    i = 0\n",
    "    fa = f(a)\n",
    "\n",
    "    print(\"-------------------------------------------------------------------------------------------------------------------------------------------------------------------\")\n",
    "    print(\"%-20s %-20s %-20s %-20s %-20s %-20s %-20s %-20s\" % (\"n\", \"a\", \"b\", \"c\", \"f(c)\", \"f(a)\", \"f(b)\", \"lebar selang\"))\n",
    "    print(\"-------------------------------------------------------------------------------------------------------------------------------------------------------------------\") \n",
    "\n",
    "    # Dilakukan iterasi sampai dengan n yang diinginkan\n",
    "    while(i <= n):\n",
    "        x = (a*f(b)-b*f(a))/(f(b) - f(a))\n",
    "        fx = f(x)\n",
    "        ls=np.abs(b-x)\n",
    "        i += 1\n",
    "\n",
    "        if (np.abs(ls) < toleransi):\n",
    "            print(\"%-20.8g %-20.8g %-20.8g %-20.8g %-20.8g %-20.8g %-20.8g %-20.8g\\n\" % (i, a, b, x, f(x), f(a), f(b), ls))\n",
    "            print(f\"\\nNilai x didapatkan pada saat iterasi ke {i}, dengan nilai x = {x}\")\n",
    "            break\n",
    "        # Jika tidak maka iterasi akan terus berjalan sampai keadaan di atas.\n",
    "        else:\n",
    "             print(\"%-20.8g %-20.8g %-20.8g %-20.8g %-20.8g %-20.8g %-20.8g %-20.8g\\n\" % (i, a, b, x, f(x), f(a), f(b), ls))\n",
    "        \n",
    "        if (fa*fx > 0):\n",
    "            a = x\n",
    "        else:\n",
    "            b = x\n",
    "        \n",
    "    return\n",
    "\n",
    "regulaFalsi(1, 4, 2.5, 20)"
   ]
  },
  {
   "cell_type": "markdown",
   "id": "a4ddd20a-c9b4-4d8a-9c6c-daabc35529c0",
   "metadata": {},
   "source": [
    "# Metode Biseksi"
   ]
  },
  {
   "cell_type": "code",
   "execution_count": 71,
   "id": "dee8a3e3-cabd-4774-8ad3-b182e8f2ea4b",
   "metadata": {},
   "outputs": [
    {
     "name": "stdout",
     "output_type": "stream",
     "text": [
      "-------------------------------------------------------------------------------------------------------------------------------------------------------------------\n",
      "n                    a                    b                    c                    f(c)                 f(a)                 f(b)                 lebar selang        \n",
      "-------------------------------------------------------------------------------------------------------------------------------------------------------------------\n",
      "1                    3                    6                    4.5                  -1.75                -4                   5                    1.5                 \n",
      "\n",
      "2                    4.5                  6                    5.25                 1.0625               -1.75                5                    0.75                \n",
      "\n",
      "3                    4.5                  5.25                 4.875                -0.484375            -1.75                1.0625               0.375               \n",
      "\n",
      "4                    4.875                5.25                 5.0625               0.25390625           -0.484375            1.0625               0.1875              \n",
      "\n",
      "\n",
      "Nilai x didapatkan pada saat iterasi ke 4, dengan nilai x = 5.0625\n"
     ]
    }
   ],
   "source": [
    "def f(x):\n",
    "    f = x**2 - 6*x + 5 \n",
    "    return f\n",
    "\n",
    "def biseksi(a, b , toleransi, n):\n",
    "    i = 0\n",
    "    fa = f(a)\n",
    "\n",
    "    print(\"-------------------------------------------------------------------------------------------------------------------------------------------------------------------\")\n",
    "    print(\"%-20s %-20s %-20s %-20s %-20s %-20s %-20s %-20s\" % (\"n\", \"a\", \"b\", \"c\", \"f(c)\", \"f(a)\", \"f(b)\", \"lebar selang\"))\n",
    "    print(\"-------------------------------------------------------------------------------------------------------------------------------------------------------------------\") \n",
    "\n",
    "    # Dilakukan iterasi sampai dengan n yang diinginkan\n",
    "    while(i <= n):\n",
    "        x = (a+b)/2\n",
    "        fx = f(x)\n",
    "        ls=np.abs(b-x)\n",
    "        i += 1\n",
    "\n",
    "        if (np.abs(ls) < toleransi):\n",
    "            print(\"%-20.8g %-20.8g %-20.8g %-20.8g %-20.8g %-20.8g %-20.8g %-20.8g\\n\" % (i, a, b, x, f(x), f(a), f(b), ls))\n",
    "            print(f\"\\nNilai x didapatkan pada saat iterasi ke {i}, dengan nilai x = {x}\")\n",
    "            break\n",
    "        # Jika tidak maka iterasi akan terus berjalan sampai keadaan di atas.\n",
    "        else:\n",
    "             print(\"%-20.8g %-20.8g %-20.8g %-20.8g %-20.8g %-20.8g %-20.8g %-20.8g\\n\" % (i, a, b, x, f(x), f(a), f(b), ls))\n",
    "        \n",
    "        if (fa*fx > 0):\n",
    "            a = x\n",
    "        else:\n",
    "            b = x\n",
    "        \n",
    "    return\n",
    "\n",
    "biseksi(3, 6, 0.3, 20)"
   ]
  },
  {
   "cell_type": "markdown",
   "id": "bd04cc27-e815-4344-8a63-43b1b8522b93",
   "metadata": {},
   "source": [
    "# Metode Seidel"
   ]
  },
  {
   "cell_type": "code",
   "execution_count": 81,
   "id": "6700d96f-0033-401e-8d44-ecfc85d70fa3",
   "metadata": {},
   "outputs": [
    {
     "name": "stdout",
     "output_type": "stream",
     "text": [
      "\n",
      "Iterasi 0 [x1, x2, x3] = [2.25    3.      2.59375]\n",
      "\n",
      "Iterasi 1 [x1, x2, x3] = [0.8515625  2.13541667 2.98470052]\n",
      "\n",
      "Iterasi 2 [x1, x2, x3] = [0.9699707  2.00509983 3.00247871]\n",
      "\n",
      "Solusinya adalah [x1, x2, x3] = [0.9699707  2.00509983 3.00247871]\n"
     ]
    }
   ],
   "source": [
    "def gauss_seidel(A, b, x0, epsilon, max_iterations):\n",
    "    n = len(A)\n",
    "    x = x0.copy()\n",
    "\n",
    "\n",
    "    for i in range(max_iterations):\n",
    "        x_new = np.zeros(n)\n",
    "        for j in range(n):\n",
    "            s1 = np.dot(A[j, :j], x_new[:j])\n",
    "            s2 = np.dot(A[j, j + 1:], x[j + 1:])\n",
    "            x_new[j] = (b[j] - s1 - s2) / A[j, j]\n",
    "        print(f\"\\nIterasi {i} [x1, x2, x3] = {x_new}\")\n",
    "        if np.allclose(x, x_new, rtol=epsilon):\n",
    "            return x_new\n",
    "        x = x_new\n",
    "        \n",
    "    return \n",
    "\n",
    "A = np.array([[4, 1, 1],\n",
    "              [0, 6, 2],\n",
    "              [1, 2, 8]])\n",
    "b = np.array([9, 18, 29])\n",
    "x0 = np.zeros(3)\n",
    "eps = 0.3\n",
    "max_iter = 100\n",
    "\n",
    "x = gauss_seidel(A, b, x0, eps, max_iter)\n",
    "print(f\"\\nSolusinya adalah [x1, x2, x3] = {x}\")"
   ]
  },
  {
   "cell_type": "code",
   "execution_count": null,
   "id": "b7cece89-14f2-4240-8f94-b9d8352c4e16",
   "metadata": {},
   "outputs": [],
   "source": []
  }
 ],
 "metadata": {
  "kernelspec": {
   "display_name": "Python 3 (ipykernel)",
   "language": "python",
   "name": "python3"
  },
  "language_info": {
   "codemirror_mode": {
    "name": "ipython",
    "version": 3
   },
   "file_extension": ".py",
   "mimetype": "text/x-python",
   "name": "python",
   "nbconvert_exporter": "python",
   "pygments_lexer": "ipython3",
   "version": "3.9.13"
  }
 },
 "nbformat": 4,
 "nbformat_minor": 5
}
